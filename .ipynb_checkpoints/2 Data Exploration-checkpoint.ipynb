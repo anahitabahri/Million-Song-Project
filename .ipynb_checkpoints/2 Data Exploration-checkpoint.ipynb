{
 "cells": [
  {
   "cell_type": "code",
   "execution_count": 2,
   "metadata": {
    "collapsed": false
   },
   "outputs": [
    {
     "name": "stderr",
     "output_type": "stream",
     "text": [
      "/Applications/anaconda/lib/python2.7/site-packages/IPython/html.py:14: ShimWarning: The `IPython.html` package has been deprecated. You should import from `notebook` instead. `IPython.html.widgets` has moved to `ipywidgets`.\n",
      "  \"`IPython.html.widgets` has moved to `ipywidgets`.\", ShimWarning)\n"
     ]
    }
   ],
   "source": [
    "%matplotlib inline\n",
    "\n",
    "import numpy as np\n",
    "import pandas as pd\n",
    "import matplotlib.pyplot as plt\n",
    "import seaborn as sns\n",
    "import time\n",
    "import glob\n",
    "import datetime\n",
    "import statsmodels.formula.api as smf\n",
    "import statsmodels.api as sm"
   ]
  },
  {
   "cell_type": "code",
   "execution_count": null,
   "metadata": {
    "collapsed": true
   },
   "outputs": [],
   "source": [
    "genre_track_data = pd.read_csv('../MSD-Data/datasets/genre_track_data.csv')\n",
    "data = pd.read_csv('../MSD-Data/datasets/data.csv')"
   ]
  },
  {
   "cell_type": "code",
   "execution_count": 1,
   "metadata": {
    "collapsed": false
   },
   "outputs": [
    {
     "ename": "NameError",
     "evalue": "name 'genre_track_data' is not defined",
     "output_type": "error",
     "traceback": [
      "\u001b[0;31m---------------------------------------------------------------------------\u001b[0m",
      "\u001b[0;31mNameError\u001b[0m                                 Traceback (most recent call last)",
      "\u001b[0;32m<ipython-input-1-c4c630a7e2ab>\u001b[0m in \u001b[0;36m<module>\u001b[0;34m()\u001b[0m\n\u001b[0;32m----> 1\u001b[0;31m \u001b[0mgenre_track_data\u001b[0m\u001b[0;34m.\u001b[0m\u001b[0mhead\u001b[0m\u001b[0;34m(\u001b[0m\u001b[0;34m)\u001b[0m\u001b[0;34m\u001b[0m\u001b[0m\n\u001b[0m",
      "\u001b[0;31mNameError\u001b[0m: name 'genre_track_data' is not defined"
     ]
    }
   ],
   "source": [
    "genre_track_data.head()"
   ]
  },
  {
   "cell_type": "markdown",
   "metadata": {},
   "source": [
    "# Further manipulate lyrics data to get unstemmed words"
   ]
  },
  {
   "cell_type": "code",
   "execution_count": 3,
   "metadata": {
    "collapsed": false
   },
   "outputs": [
    {
     "data": {
      "text/plain": [
       "(10603615, 22)"
      ]
     },
     "execution_count": 3,
     "metadata": {},
     "output_type": "execute_result"
    }
   ],
   "source": [
    "data.shape"
   ]
  },
  {
   "cell_type": "code",
   "execution_count": 4,
   "metadata": {
    "collapsed": false
   },
   "outputs": [
    {
     "data": {
      "text/plain": [
       "['Unnamed: 0',\n",
       " 'track_id',\n",
       " 'title',\n",
       " 'song_id',\n",
       " 'release',\n",
       " 'artist_id',\n",
       " 'artist_mbid',\n",
       " 'artist_name',\n",
       " 'duration',\n",
       " 'artist_familiarity',\n",
       " 'artist_hotttnesss',\n",
       " 'year',\n",
       " 'track_7digitalid',\n",
       " 'shs_perf',\n",
       " 'shs_work',\n",
       " 'genre_id',\n",
       " 'mxm_tid',\n",
       " 'word',\n",
       " 'count',\n",
       " 'is_test',\n",
       " 'word_length',\n",
       " 'unstemmed']"
      ]
     },
     "execution_count": 4,
     "metadata": {},
     "output_type": "execute_result"
    }
   ],
   "source": [
    "list(data.columns.values)"
   ]
  },
  {
   "cell_type": "code",
   "execution_count": 5,
   "metadata": {
    "collapsed": true
   },
   "outputs": [],
   "source": [
    "del data['Unnamed: 0']"
   ]
  },
  {
   "cell_type": "code",
   "execution_count": 6,
   "metadata": {
    "collapsed": false
   },
   "outputs": [
    {
     "data": {
      "text/html": [
       "<div>\n",
       "<table border=\"1\" class=\"dataframe\">\n",
       "  <thead>\n",
       "    <tr style=\"text-align: right;\">\n",
       "      <th></th>\n",
       "      <th>track_id</th>\n",
       "      <th>title</th>\n",
       "      <th>song_id</th>\n",
       "      <th>release</th>\n",
       "      <th>artist_id</th>\n",
       "      <th>artist_mbid</th>\n",
       "      <th>artist_name</th>\n",
       "      <th>duration</th>\n",
       "      <th>artist_familiarity</th>\n",
       "      <th>artist_hotttnesss</th>\n",
       "      <th>...</th>\n",
       "      <th>track_7digitalid</th>\n",
       "      <th>shs_perf</th>\n",
       "      <th>shs_work</th>\n",
       "      <th>genre_id</th>\n",
       "      <th>mxm_tid</th>\n",
       "      <th>word</th>\n",
       "      <th>count</th>\n",
       "      <th>is_test</th>\n",
       "      <th>word_length</th>\n",
       "      <th>unstemmed</th>\n",
       "    </tr>\n",
       "  </thead>\n",
       "  <tbody>\n",
       "    <tr>\n",
       "      <th>0</th>\n",
       "      <td>TRMMMUT128F42646E8</td>\n",
       "      <td>(Looking For) The Heart Of Saturday</td>\n",
       "      <td>SOBARPM12A8C133DFF</td>\n",
       "      <td>Cover Girl</td>\n",
       "      <td>ARDW5AW1187FB55708</td>\n",
       "      <td>42222090-c5e5-4243-8582-c29bc8b63ec6</td>\n",
       "      <td>Shawn Colvin</td>\n",
       "      <td>216.47628</td>\n",
       "      <td>0.685503</td>\n",
       "      <td>0.446733</td>\n",
       "      <td>...</td>\n",
       "      <td>3156269</td>\n",
       "      <td>-1</td>\n",
       "      <td>0</td>\n",
       "      <td>Pop_Rock</td>\n",
       "      <td>674743</td>\n",
       "      <td>the</td>\n",
       "      <td>36</td>\n",
       "      <td>0</td>\n",
       "      <td>3</td>\n",
       "      <td>NaN</td>\n",
       "    </tr>\n",
       "    <tr>\n",
       "      <th>1</th>\n",
       "      <td>TRMMMUT128F42646E8</td>\n",
       "      <td>(Looking For) The Heart Of Saturday</td>\n",
       "      <td>SOBARPM12A8C133DFF</td>\n",
       "      <td>Cover Girl</td>\n",
       "      <td>ARDW5AW1187FB55708</td>\n",
       "      <td>42222090-c5e5-4243-8582-c29bc8b63ec6</td>\n",
       "      <td>Shawn Colvin</td>\n",
       "      <td>216.47628</td>\n",
       "      <td>0.685503</td>\n",
       "      <td>0.446733</td>\n",
       "      <td>...</td>\n",
       "      <td>3156269</td>\n",
       "      <td>-1</td>\n",
       "      <td>0</td>\n",
       "      <td>Pop_Rock</td>\n",
       "      <td>674743</td>\n",
       "      <td>you</td>\n",
       "      <td>25</td>\n",
       "      <td>0</td>\n",
       "      <td>3</td>\n",
       "      <td>NaN</td>\n",
       "    </tr>\n",
       "    <tr>\n",
       "      <th>2</th>\n",
       "      <td>TRMMMUT128F42646E8</td>\n",
       "      <td>(Looking For) The Heart Of Saturday</td>\n",
       "      <td>SOBARPM12A8C133DFF</td>\n",
       "      <td>Cover Girl</td>\n",
       "      <td>ARDW5AW1187FB55708</td>\n",
       "      <td>42222090-c5e5-4243-8582-c29bc8b63ec6</td>\n",
       "      <td>Shawn Colvin</td>\n",
       "      <td>216.47628</td>\n",
       "      <td>0.685503</td>\n",
       "      <td>0.446733</td>\n",
       "      <td>...</td>\n",
       "      <td>3156269</td>\n",
       "      <td>-1</td>\n",
       "      <td>0</td>\n",
       "      <td>Pop_Rock</td>\n",
       "      <td>674743</td>\n",
       "      <td>to</td>\n",
       "      <td>2</td>\n",
       "      <td>0</td>\n",
       "      <td>2</td>\n",
       "      <td>NaN</td>\n",
       "    </tr>\n",
       "    <tr>\n",
       "      <th>3</th>\n",
       "      <td>TRMMMUT128F42646E8</td>\n",
       "      <td>(Looking For) The Heart Of Saturday</td>\n",
       "      <td>SOBARPM12A8C133DFF</td>\n",
       "      <td>Cover Girl</td>\n",
       "      <td>ARDW5AW1187FB55708</td>\n",
       "      <td>42222090-c5e5-4243-8582-c29bc8b63ec6</td>\n",
       "      <td>Shawn Colvin</td>\n",
       "      <td>216.47628</td>\n",
       "      <td>0.685503</td>\n",
       "      <td>0.446733</td>\n",
       "      <td>...</td>\n",
       "      <td>3156269</td>\n",
       "      <td>-1</td>\n",
       "      <td>0</td>\n",
       "      <td>Pop_Rock</td>\n",
       "      <td>674743</td>\n",
       "      <td>and</td>\n",
       "      <td>8</td>\n",
       "      <td>0</td>\n",
       "      <td>3</td>\n",
       "      <td>NaN</td>\n",
       "    </tr>\n",
       "    <tr>\n",
       "      <th>4</th>\n",
       "      <td>TRMMMUT128F42646E8</td>\n",
       "      <td>(Looking For) The Heart Of Saturday</td>\n",
       "      <td>SOBARPM12A8C133DFF</td>\n",
       "      <td>Cover Girl</td>\n",
       "      <td>ARDW5AW1187FB55708</td>\n",
       "      <td>42222090-c5e5-4243-8582-c29bc8b63ec6</td>\n",
       "      <td>Shawn Colvin</td>\n",
       "      <td>216.47628</td>\n",
       "      <td>0.685503</td>\n",
       "      <td>0.446733</td>\n",
       "      <td>...</td>\n",
       "      <td>3156269</td>\n",
       "      <td>-1</td>\n",
       "      <td>0</td>\n",
       "      <td>Pop_Rock</td>\n",
       "      <td>674743</td>\n",
       "      <td>a</td>\n",
       "      <td>2</td>\n",
       "      <td>0</td>\n",
       "      <td>1</td>\n",
       "      <td>NaN</td>\n",
       "    </tr>\n",
       "  </tbody>\n",
       "</table>\n",
       "<p>5 rows × 21 columns</p>\n",
       "</div>"
      ],
      "text/plain": [
       "             track_id                                title  \\\n",
       "0  TRMMMUT128F42646E8  (Looking For) The Heart Of Saturday   \n",
       "1  TRMMMUT128F42646E8  (Looking For) The Heart Of Saturday   \n",
       "2  TRMMMUT128F42646E8  (Looking For) The Heart Of Saturday   \n",
       "3  TRMMMUT128F42646E8  (Looking For) The Heart Of Saturday   \n",
       "4  TRMMMUT128F42646E8  (Looking For) The Heart Of Saturday   \n",
       "\n",
       "              song_id     release           artist_id  \\\n",
       "0  SOBARPM12A8C133DFF  Cover Girl  ARDW5AW1187FB55708   \n",
       "1  SOBARPM12A8C133DFF  Cover Girl  ARDW5AW1187FB55708   \n",
       "2  SOBARPM12A8C133DFF  Cover Girl  ARDW5AW1187FB55708   \n",
       "3  SOBARPM12A8C133DFF  Cover Girl  ARDW5AW1187FB55708   \n",
       "4  SOBARPM12A8C133DFF  Cover Girl  ARDW5AW1187FB55708   \n",
       "\n",
       "                            artist_mbid   artist_name   duration  \\\n",
       "0  42222090-c5e5-4243-8582-c29bc8b63ec6  Shawn Colvin  216.47628   \n",
       "1  42222090-c5e5-4243-8582-c29bc8b63ec6  Shawn Colvin  216.47628   \n",
       "2  42222090-c5e5-4243-8582-c29bc8b63ec6  Shawn Colvin  216.47628   \n",
       "3  42222090-c5e5-4243-8582-c29bc8b63ec6  Shawn Colvin  216.47628   \n",
       "4  42222090-c5e5-4243-8582-c29bc8b63ec6  Shawn Colvin  216.47628   \n",
       "\n",
       "   artist_familiarity  artist_hotttnesss    ...      track_7digitalid  \\\n",
       "0            0.685503           0.446733    ...               3156269   \n",
       "1            0.685503           0.446733    ...               3156269   \n",
       "2            0.685503           0.446733    ...               3156269   \n",
       "3            0.685503           0.446733    ...               3156269   \n",
       "4            0.685503           0.446733    ...               3156269   \n",
       "\n",
       "   shs_perf  shs_work  genre_id mxm_tid  word count  is_test  word_length  \\\n",
       "0        -1         0  Pop_Rock  674743   the    36        0            3   \n",
       "1        -1         0  Pop_Rock  674743   you    25        0            3   \n",
       "2        -1         0  Pop_Rock  674743    to     2        0            2   \n",
       "3        -1         0  Pop_Rock  674743   and     8        0            3   \n",
       "4        -1         0  Pop_Rock  674743     a     2        0            1   \n",
       "\n",
       "   unstemmed  \n",
       "0        NaN  \n",
       "1        NaN  \n",
       "2        NaN  \n",
       "3        NaN  \n",
       "4        NaN  \n",
       "\n",
       "[5 rows x 21 columns]"
      ]
     },
     "execution_count": 6,
     "metadata": {},
     "output_type": "execute_result"
    }
   ],
   "source": [
    "data.head()"
   ]
  },
  {
   "cell_type": "code",
   "execution_count": 7,
   "metadata": {
    "collapsed": true
   },
   "outputs": [],
   "source": [
    "words = pd.read_excel('../MSD-Data/datasets/unstemmed.xlsx')"
   ]
  },
  {
   "cell_type": "code",
   "execution_count": 8,
   "metadata": {
    "collapsed": false
   },
   "outputs": [
    {
     "name": "stderr",
     "output_type": "stream",
     "text": [
      "/Applications/anaconda/lib/python2.7/site-packages/pandas/tools/merge.py:1207: UnicodeWarning: Unicode equal comparison failed to convert both arguments to Unicode - interpreting them as being unequal\n",
      "  rlab = rizer.factorize(rk)\n"
     ]
    }
   ],
   "source": [
    "data_2 = pd.merge(data, words, how='left', left_on='word',right_on='stemmed')"
   ]
  },
  {
   "cell_type": "code",
   "execution_count": 9,
   "metadata": {
    "collapsed": false
   },
   "outputs": [
    {
     "data": {
      "text/plain": [
       "['track_id',\n",
       " 'title',\n",
       " 'song_id',\n",
       " 'release',\n",
       " 'artist_id',\n",
       " 'artist_mbid',\n",
       " 'artist_name',\n",
       " 'duration',\n",
       " 'artist_familiarity',\n",
       " 'artist_hotttnesss',\n",
       " 'year',\n",
       " 'track_7digitalid',\n",
       " 'shs_perf',\n",
       " 'shs_work',\n",
       " 'genre_id',\n",
       " 'mxm_tid',\n",
       " 'word',\n",
       " 'count',\n",
       " 'is_test',\n",
       " 'word_length',\n",
       " 'unstemmed_x',\n",
       " u'stemmed',\n",
       " u'unstemmed_y']"
      ]
     },
     "execution_count": 9,
     "metadata": {},
     "output_type": "execute_result"
    }
   ],
   "source": [
    "list(data_2.columns)"
   ]
  },
  {
   "cell_type": "markdown",
   "metadata": {},
   "source": [
    "#### time to delete: song_id, release, artist_mbid,  track_7digitalid, shs_perf, shs_work, mxm_tid, is_test, unstemmed_x, stemmed"
   ]
  },
  {
   "cell_type": "code",
   "execution_count": 11,
   "metadata": {
    "collapsed": true
   },
   "outputs": [],
   "source": [
    "del data_2['song_id']\n",
    "del data_2['release']\n",
    "del data_2['artist_mbid']\n",
    "del data_2['track_7digitalid']\n",
    "del data_2['shs_perf']\n",
    "del data_2['shs_work']\n",
    "del data_2['mxm_tid']\n",
    "del data_2['is_test']\n",
    "del data_2['unstemmed_x']\n",
    "del data_2['stemmed']"
   ]
  },
  {
   "cell_type": "code",
   "execution_count": 12,
   "metadata": {
    "collapsed": false
   },
   "outputs": [
    {
     "data": {
      "text/html": [
       "<div>\n",
       "<table border=\"1\" class=\"dataframe\">\n",
       "  <thead>\n",
       "    <tr style=\"text-align: right;\">\n",
       "      <th></th>\n",
       "      <th>track_id</th>\n",
       "      <th>title</th>\n",
       "      <th>artist_id</th>\n",
       "      <th>artist_name</th>\n",
       "      <th>duration</th>\n",
       "      <th>artist_familiarity</th>\n",
       "      <th>artist_hotttnesss</th>\n",
       "      <th>year</th>\n",
       "      <th>genre_id</th>\n",
       "      <th>word</th>\n",
       "      <th>count</th>\n",
       "      <th>word_length</th>\n",
       "      <th>unstemmed_y</th>\n",
       "    </tr>\n",
       "  </thead>\n",
       "  <tbody>\n",
       "    <tr>\n",
       "      <th>0</th>\n",
       "      <td>TRMMMUT128F42646E8</td>\n",
       "      <td>(Looking For) The Heart Of Saturday</td>\n",
       "      <td>ARDW5AW1187FB55708</td>\n",
       "      <td>Shawn Colvin</td>\n",
       "      <td>216.47628</td>\n",
       "      <td>0.685503</td>\n",
       "      <td>0.446733</td>\n",
       "      <td>1994</td>\n",
       "      <td>Pop_Rock</td>\n",
       "      <td>the</td>\n",
       "      <td>36</td>\n",
       "      <td>3</td>\n",
       "      <td>the</td>\n",
       "    </tr>\n",
       "    <tr>\n",
       "      <th>1</th>\n",
       "      <td>TRMMMUT128F42646E8</td>\n",
       "      <td>(Looking For) The Heart Of Saturday</td>\n",
       "      <td>ARDW5AW1187FB55708</td>\n",
       "      <td>Shawn Colvin</td>\n",
       "      <td>216.47628</td>\n",
       "      <td>0.685503</td>\n",
       "      <td>0.446733</td>\n",
       "      <td>1994</td>\n",
       "      <td>Pop_Rock</td>\n",
       "      <td>you</td>\n",
       "      <td>25</td>\n",
       "      <td>3</td>\n",
       "      <td>you</td>\n",
       "    </tr>\n",
       "    <tr>\n",
       "      <th>2</th>\n",
       "      <td>TRMMMUT128F42646E8</td>\n",
       "      <td>(Looking For) The Heart Of Saturday</td>\n",
       "      <td>ARDW5AW1187FB55708</td>\n",
       "      <td>Shawn Colvin</td>\n",
       "      <td>216.47628</td>\n",
       "      <td>0.685503</td>\n",
       "      <td>0.446733</td>\n",
       "      <td>1994</td>\n",
       "      <td>Pop_Rock</td>\n",
       "      <td>to</td>\n",
       "      <td>2</td>\n",
       "      <td>2</td>\n",
       "      <td>to</td>\n",
       "    </tr>\n",
       "    <tr>\n",
       "      <th>3</th>\n",
       "      <td>TRMMMUT128F42646E8</td>\n",
       "      <td>(Looking For) The Heart Of Saturday</td>\n",
       "      <td>ARDW5AW1187FB55708</td>\n",
       "      <td>Shawn Colvin</td>\n",
       "      <td>216.47628</td>\n",
       "      <td>0.685503</td>\n",
       "      <td>0.446733</td>\n",
       "      <td>1994</td>\n",
       "      <td>Pop_Rock</td>\n",
       "      <td>and</td>\n",
       "      <td>8</td>\n",
       "      <td>3</td>\n",
       "      <td>and</td>\n",
       "    </tr>\n",
       "    <tr>\n",
       "      <th>4</th>\n",
       "      <td>TRMMMUT128F42646E8</td>\n",
       "      <td>(Looking For) The Heart Of Saturday</td>\n",
       "      <td>ARDW5AW1187FB55708</td>\n",
       "      <td>Shawn Colvin</td>\n",
       "      <td>216.47628</td>\n",
       "      <td>0.685503</td>\n",
       "      <td>0.446733</td>\n",
       "      <td>1994</td>\n",
       "      <td>Pop_Rock</td>\n",
       "      <td>a</td>\n",
       "      <td>2</td>\n",
       "      <td>1</td>\n",
       "      <td>a</td>\n",
       "    </tr>\n",
       "  </tbody>\n",
       "</table>\n",
       "</div>"
      ],
      "text/plain": [
       "             track_id                                title  \\\n",
       "0  TRMMMUT128F42646E8  (Looking For) The Heart Of Saturday   \n",
       "1  TRMMMUT128F42646E8  (Looking For) The Heart Of Saturday   \n",
       "2  TRMMMUT128F42646E8  (Looking For) The Heart Of Saturday   \n",
       "3  TRMMMUT128F42646E8  (Looking For) The Heart Of Saturday   \n",
       "4  TRMMMUT128F42646E8  (Looking For) The Heart Of Saturday   \n",
       "\n",
       "            artist_id   artist_name   duration  artist_familiarity  \\\n",
       "0  ARDW5AW1187FB55708  Shawn Colvin  216.47628            0.685503   \n",
       "1  ARDW5AW1187FB55708  Shawn Colvin  216.47628            0.685503   \n",
       "2  ARDW5AW1187FB55708  Shawn Colvin  216.47628            0.685503   \n",
       "3  ARDW5AW1187FB55708  Shawn Colvin  216.47628            0.685503   \n",
       "4  ARDW5AW1187FB55708  Shawn Colvin  216.47628            0.685503   \n",
       "\n",
       "   artist_hotttnesss  year  genre_id word  count  word_length unstemmed_y  \n",
       "0           0.446733  1994  Pop_Rock  the     36            3         the  \n",
       "1           0.446733  1994  Pop_Rock  you     25            3         you  \n",
       "2           0.446733  1994  Pop_Rock   to      2            2          to  \n",
       "3           0.446733  1994  Pop_Rock  and      8            3         and  \n",
       "4           0.446733  1994  Pop_Rock    a      2            1           a  "
      ]
     },
     "execution_count": 12,
     "metadata": {},
     "output_type": "execute_result"
    }
   ],
   "source": [
    "data_2.head()"
   ]
  },
  {
   "cell_type": "code",
   "execution_count": 13,
   "metadata": {
    "collapsed": true
   },
   "outputs": [],
   "source": [
    "data_2.rename(columns={'unstemmed_y':'unstemmed_word'}, inplace=True)"
   ]
  },
  {
   "cell_type": "code",
   "execution_count": null,
   "metadata": {
    "collapsed": true
   },
   "outputs": [],
   "source": [
    "data_2.to_csv('../MSD-Data/datasets/data_final.csv',index=False)"
   ]
  }
 ],
 "metadata": {
  "kernelspec": {
   "display_name": "Python 2",
   "language": "python",
   "name": "python2"
  },
  "language_info": {
   "codemirror_mode": {
    "name": "ipython",
    "version": 2
   },
   "file_extension": ".py",
   "mimetype": "text/x-python",
   "name": "python",
   "nbconvert_exporter": "python",
   "pygments_lexer": "ipython2",
   "version": "2.7.12"
  }
 },
 "nbformat": 4,
 "nbformat_minor": 1
}
