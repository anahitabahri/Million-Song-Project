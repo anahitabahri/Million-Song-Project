{
 "cells": [
  {
   "cell_type": "code",
   "execution_count": 1,
   "metadata": {
    "collapsed": false
   },
   "outputs": [
    {
     "name": "stdout",
     "output_type": "stream",
     "text": [
      "need pg module and MBrainzDB folder of Python source code if you\n",
      "want to use musicbrainz related functions, e.g. fill_hdf5_from_musicbrainz\n"
     ]
    },
    {
     "name": "stderr",
     "output_type": "stream",
     "text": [
      "/Applications/anaconda/lib/python2.7/site-packages/IPython/html.py:14: ShimWarning: The `IPython.html` package has been deprecated. You should import from `notebook` instead. `IPython.html.widgets` has moved to `ipywidgets`.\n",
      "  \"`IPython.html.widgets` has moved to `ipywidgets`.\", ShimWarning)\n"
     ]
    }
   ],
   "source": [
    "%matplotlib inline\n",
    "\n",
    "import numpy as np\n",
    "import pandas as pd\n",
    "import matplotlib.pyplot as plt\n",
    "import seaborn as sb\n",
    "import time\n",
    "import glob\n",
    "import datetime\n",
    "import sqlite3\n",
    "\n",
    "import hdf5_utils as HDF5\n",
    "import hdf5_getters as g"
   ]
  },
  {
   "cell_type": "code",
   "execution_count": 2,
   "metadata": {
    "collapsed": false
   },
   "outputs": [
    {
     "data": {
      "text/plain": [
       "['get_danceability',\n",
       " 'get_audio_md5',\n",
       " 'get_segments_timbre',\n",
       " 'get_artist_longitude',\n",
       " 'get_artist_id',\n",
       " 'get_similar_artists',\n",
       " 'get_key',\n",
       " 'get_artist_playmeid',\n",
       " 'get_time_signature_confidence',\n",
       " 'get_track_7digitalid',\n",
       " 'get_artist_terms',\n",
       " 'get_segments_loudness_max',\n",
       " 'get_artist_mbtags_count',\n",
       " 'get_tempo',\n",
       " 'get_release',\n",
       " 'get_artist_hotttnesss',\n",
       " 'get_beats_start',\n",
       " 'get_sections_start',\n",
       " 'get_artist_7digitalid',\n",
       " 'get_segments_loudness_max_time',\n",
       " 'get_mode',\n",
       " 'get_segments_pitches',\n",
       " 'get_year',\n",
       " 'get_key_confidence',\n",
       " 'get_bars_start',\n",
       " 'get_segments_confidence',\n",
       " 'get_start_of_fade_out',\n",
       " 'get_song_id',\n",
       " 'get_time_signature',\n",
       " 'get_artist_familiarity',\n",
       " 'get_end_of_fade_in',\n",
       " 'get_sections_confidence',\n",
       " 'get_artist_terms_freq',\n",
       " 'get_mode_confidence',\n",
       " 'get_song_hotttnesss',\n",
       " 'get_artist_name',\n",
       " 'get_artist_mbtags',\n",
       " 'get_analysis_sample_rate',\n",
       " 'get_artist_location',\n",
       " 'get_bars_confidence',\n",
       " 'get_artist_terms_weight',\n",
       " 'get_track_id',\n",
       " 'get_num_songs',\n",
       " 'get_title',\n",
       " 'get_beats_confidence',\n",
       " 'get_tatums_start',\n",
       " 'get_artist_mbid',\n",
       " 'get_loudness',\n",
       " 'get_segments_loudness_start',\n",
       " 'get_energy',\n",
       " 'get_segments_start',\n",
       " 'get_duration',\n",
       " 'get_release_7digitalid',\n",
       " 'get_tatums_confidence',\n",
       " 'get_artist_latitude']"
      ]
     },
     "execution_count": 2,
     "metadata": {},
     "output_type": "execute_result"
    }
   ],
   "source": [
    "filter(lambda x: x[:3] == 'get',HDF5.__dict__.keys())"
   ]
  },
  {
   "cell_type": "code",
   "execution_count": 3,
   "metadata": {
    "collapsed": true
   },
   "outputs": [],
   "source": [
    "files = glob.glob('/Users/Anahita/Documents/General Assembly/Data Science/project/MillionSongSubset/data/*/*/*/*.h5')"
   ]
  },
  {
   "cell_type": "code",
   "execution_count": 4,
   "metadata": {
    "collapsed": false
   },
   "outputs": [
    {
     "data": {
      "text/plain": [
       "10000"
      ]
     },
     "execution_count": 4,
     "metadata": {},
     "output_type": "execute_result"
    }
   ],
   "source": [
    "len(files)"
   ]
  },
  {
   "cell_type": "code",
   "execution_count": null,
   "metadata": {
    "collapsed": false
   },
   "outputs": [
    {
     "name": "stdout",
     "output_type": "stream",
     "text": [
      "CPU times: user 5 µs, sys: 11 µs, total: 16 µs\n",
      "Wall time: 47 µs\n"
     ]
    }
   ],
   "source": [
    "% time\n",
    "artist_name = []\n",
    "artist_familiarity = []\n",
    "artist_hotttnesss = []\n",
    "artist_id = []\n",
    "artist_latitude = []\n",
    "artist_longitude = []\n",
    "artist_location = []\n",
    "track_id = []\n",
    "danceability = []\n",
    "key = []\n",
    "loudness_max = []\n",
    "loudness = []\n",
    "loudness_start = []\n",
    "tempo = []\n",
    "year = []\n",
    "time_signature = []\n",
    "song_hotttnesss = []\n",
    "title = []\n",
    "energy = []\n",
    "duration = []\n",
    "\n",
    "for f in files:\n",
    "    \n",
    "    h5 = HDF5.open_h5_file_read(f)\n",
    "    \n",
    "    artist_names = g.get_artist_name(h5)\n",
    "    artist_familar = g.get_artist_familiarity(h5)\n",
    "    artist_hot = g.get_artist_hotttnesss(h5)\n",
    "    artist_ids = g.get_artist_id(h5)\n",
    "    artist_lat = g.get_artist_latitude(h5)\n",
    "    artist_long = g.get_artist_longitude(h5)\n",
    "    artist_loc = g.get_artist_location(h5)\n",
    "    track_ID = g.get_track_id(h5)\n",
    "    track_danceability = g.get_danceability(h5)\n",
    "    Key = g.get_key(h5)\n",
    "    seg_loudness_max = g.get_segments_loudness_max(h5)\n",
    "    Loudness = g.get_loudness(h5)\n",
    "    seg_loudness_start = g.get_segments_loudness_start(h5)\n",
    "    Tempo = g.get_tempo(h5)\n",
    "    Year = g.get_year(h5)\n",
    "    time_sig = g.get_time_signature(h5)\n",
    "    song_hot = g.get_song_hotttnesss(h5)\n",
    "    song_title = g.get_title(h5)\n",
    "    energies = g.get_energy(h5)\n",
    "    Duration = g.get_duration(h5)\n",
    " \n",
    "    artist_name.append(artist_names)\n",
    "    artist_familiarity.append(artist_familar)\n",
    "    artist_hotttnesss.append(artist_hot)\n",
    "    artist_id.append(artist_ids)\n",
    "    artist_latitude.append(artist_lat)\n",
    "    artist_longitude.append(artist_long)\n",
    "    artist_location.append(artist_loc)\n",
    "    track_id.append(track_ID)\n",
    "    danceability.append(track_danceability)\n",
    "    key.append(Key)\n",
    "    loudness_max.append(seg_loudness_max)\n",
    "    loudness.append(Loudness)\n",
    "    loudness_start.append(seg_loudness_start)\n",
    "    tempo.append(Tempo)\n",
    "    year.append(Year)\n",
    "    time_signature.append(time_sig)\n",
    "    song_hotttnesss.append(song_hot)\n",
    "    title.append(song_title)\n",
    "    energy.append(energies)\n",
    "    duration.append(Duration)\n",
    "\n",
    "    h5.close()"
   ]
  },
  {
   "cell_type": "code",
   "execution_count": 6,
   "metadata": {
    "collapsed": true
   },
   "outputs": [],
   "source": [
    "song_data = {'artist_name':artist_name,\n",
    "             'artist_familiarity':artist_familiarity,\n",
    "             'artist_hotttnesss':artist_hotttnesss,\n",
    "             'artist_id':artist_id,\n",
    "             'artist_latitude':artist_latitude,\n",
    "             'artist_longitude':artist_longitude,\n",
    "             'artist_location':artist_location,\n",
    "             'track_id':track_id,\n",
    "             'danceability':danceability,\n",
    "             'key':key,\n",
    "             'loudness_max':loudness_max,\n",
    "             'loudness':loudness,\n",
    "             'loudness_start':loudness_start,\n",
    "             'tempo':tempo,\n",
    "             'year':year,\n",
    "             'time_signature':time_signature,\n",
    "             'song_hotttnesss':song_hotttnesss,\n",
    "             'title':title,\n",
    "             'energy':energy,\n",
    "             'duration':duration\n",
    "            }"
   ]
  },
  {
   "cell_type": "code",
   "execution_count": 7,
   "metadata": {
    "collapsed": true
   },
   "outputs": [],
   "source": [
    "song_df = pd.DataFrame(song_data)"
   ]
  },
  {
   "cell_type": "code",
   "execution_count": 8,
   "metadata": {
    "collapsed": false
   },
   "outputs": [
    {
     "data": {
      "text/plain": [
       "(10000, 20)"
      ]
     },
     "execution_count": 8,
     "metadata": {},
     "output_type": "execute_result"
    }
   ],
   "source": [
    "song_df.shape"
   ]
  },
  {
   "cell_type": "code",
   "execution_count": 9,
   "metadata": {
    "collapsed": false
   },
   "outputs": [
    {
     "data": {
      "text/html": [
       "<div>\n",
       "<table border=\"1\" class=\"dataframe\">\n",
       "  <thead>\n",
       "    <tr style=\"text-align: right;\">\n",
       "      <th></th>\n",
       "      <th>artist_familiarity</th>\n",
       "      <th>artist_hotttnesss</th>\n",
       "      <th>artist_id</th>\n",
       "      <th>artist_latitude</th>\n",
       "      <th>artist_location</th>\n",
       "      <th>artist_longitude</th>\n",
       "      <th>artist_name</th>\n",
       "      <th>danceability</th>\n",
       "      <th>duration</th>\n",
       "      <th>energy</th>\n",
       "      <th>key</th>\n",
       "      <th>loudness</th>\n",
       "      <th>loudness_max</th>\n",
       "      <th>loudness_start</th>\n",
       "      <th>song_hotttnesss</th>\n",
       "      <th>tempo</th>\n",
       "      <th>time_signature</th>\n",
       "      <th>title</th>\n",
       "      <th>track_id</th>\n",
       "      <th>year</th>\n",
       "    </tr>\n",
       "  </thead>\n",
       "  <tbody>\n",
       "    <tr>\n",
       "      <th>0</th>\n",
       "      <td>0.581794</td>\n",
       "      <td>0.401998</td>\n",
       "      <td>ARD7TVE1187B99BFB1</td>\n",
       "      <td>NaN</td>\n",
       "      <td>California - LA</td>\n",
       "      <td>NaN</td>\n",
       "      <td>Casual</td>\n",
       "      <td>0.0</td>\n",
       "      <td>218.93179</td>\n",
       "      <td>0.0</td>\n",
       "      <td>1</td>\n",
       "      <td>-11.197</td>\n",
       "      <td>[-60.0, -31.646, -34.565, -38.407, -34.696, -2...</td>\n",
       "      <td>[-60.0, -60.0, -40.84, -40.401, -38.456, -39.6...</td>\n",
       "      <td>0.602120</td>\n",
       "      <td>92.198</td>\n",
       "      <td>4</td>\n",
       "      <td>I Didn't Mean To</td>\n",
       "      <td>TRAAAAW128F429D538</td>\n",
       "      <td>0</td>\n",
       "    </tr>\n",
       "    <tr>\n",
       "      <th>1</th>\n",
       "      <td>0.630630</td>\n",
       "      <td>0.417500</td>\n",
       "      <td>ARMJAGH1187FB546F3</td>\n",
       "      <td>35.14968</td>\n",
       "      <td>Memphis, TN</td>\n",
       "      <td>-90.04892</td>\n",
       "      <td>The Box Tops</td>\n",
       "      <td>0.0</td>\n",
       "      <td>148.03546</td>\n",
       "      <td>0.0</td>\n",
       "      <td>6</td>\n",
       "      <td>-9.843</td>\n",
       "      <td>[-60.0, -14.269, -10.165, -18.098, -19.136, -1...</td>\n",
       "      <td>[-60.0, -60.0, -23.521, -25.16, -27.133, -24.2...</td>\n",
       "      <td>NaN</td>\n",
       "      <td>121.274</td>\n",
       "      <td>4</td>\n",
       "      <td>Soul Deep</td>\n",
       "      <td>TRAAABD128F429CF47</td>\n",
       "      <td>1969</td>\n",
       "    </tr>\n",
       "    <tr>\n",
       "      <th>2</th>\n",
       "      <td>0.487357</td>\n",
       "      <td>0.343428</td>\n",
       "      <td>ARKRRTF1187B9984DA</td>\n",
       "      <td>NaN</td>\n",
       "      <td></td>\n",
       "      <td>NaN</td>\n",
       "      <td>Sonora Santanera</td>\n",
       "      <td>0.0</td>\n",
       "      <td>177.47546</td>\n",
       "      <td>0.0</td>\n",
       "      <td>8</td>\n",
       "      <td>-9.689</td>\n",
       "      <td>[-59.895, -11.914, -10.344, -9.678, -9.22, -8....</td>\n",
       "      <td>[-60.0, -59.9, -12.744, -12.003, -12.991, -15....</td>\n",
       "      <td>NaN</td>\n",
       "      <td>100.070</td>\n",
       "      <td>1</td>\n",
       "      <td>Amor De Cabaret</td>\n",
       "      <td>TRAAADZ128F9348C2E</td>\n",
       "      <td>0</td>\n",
       "    </tr>\n",
       "    <tr>\n",
       "      <th>3</th>\n",
       "      <td>0.630382</td>\n",
       "      <td>0.454231</td>\n",
       "      <td>AR7G5I41187FB4CE6C</td>\n",
       "      <td>NaN</td>\n",
       "      <td>London, England</td>\n",
       "      <td>NaN</td>\n",
       "      <td>Adam Ant</td>\n",
       "      <td>0.0</td>\n",
       "      <td>233.40363</td>\n",
       "      <td>0.0</td>\n",
       "      <td>0</td>\n",
       "      <td>-9.013</td>\n",
       "      <td>[-18.682, -9.55, -9.709, -8.633, -7.434, -11.7...</td>\n",
       "      <td>[-60.0, -27.665, -21.241, -15.222, -18.915, -1...</td>\n",
       "      <td>NaN</td>\n",
       "      <td>119.293</td>\n",
       "      <td>4</td>\n",
       "      <td>Something Girls</td>\n",
       "      <td>TRAAAEF128F4273421</td>\n",
       "      <td>1982</td>\n",
       "    </tr>\n",
       "    <tr>\n",
       "      <th>4</th>\n",
       "      <td>0.651046</td>\n",
       "      <td>0.401724</td>\n",
       "      <td>ARXR32B1187FB57099</td>\n",
       "      <td>NaN</td>\n",
       "      <td></td>\n",
       "      <td>NaN</td>\n",
       "      <td>Gob</td>\n",
       "      <td>0.0</td>\n",
       "      <td>209.60608</td>\n",
       "      <td>0.0</td>\n",
       "      <td>2</td>\n",
       "      <td>-4.501</td>\n",
       "      <td>[-59.813, -7.713, -16.13, -2.512, -8.088, -8.7...</td>\n",
       "      <td>[-60.0, -59.828, -19.551, -32.609, -21.899, -2...</td>\n",
       "      <td>0.604501</td>\n",
       "      <td>129.738</td>\n",
       "      <td>4</td>\n",
       "      <td>Face the Ashes</td>\n",
       "      <td>TRAAAFD128F92F423A</td>\n",
       "      <td>2007</td>\n",
       "    </tr>\n",
       "  </tbody>\n",
       "</table>\n",
       "</div>"
      ],
      "text/plain": [
       "   artist_familiarity  artist_hotttnesss           artist_id  artist_latitude  \\\n",
       "0            0.581794           0.401998  ARD7TVE1187B99BFB1              NaN   \n",
       "1            0.630630           0.417500  ARMJAGH1187FB546F3         35.14968   \n",
       "2            0.487357           0.343428  ARKRRTF1187B9984DA              NaN   \n",
       "3            0.630382           0.454231  AR7G5I41187FB4CE6C              NaN   \n",
       "4            0.651046           0.401724  ARXR32B1187FB57099              NaN   \n",
       "\n",
       "   artist_location  artist_longitude       artist_name  danceability  \\\n",
       "0  California - LA               NaN            Casual           0.0   \n",
       "1      Memphis, TN         -90.04892      The Box Tops           0.0   \n",
       "2                                NaN  Sonora Santanera           0.0   \n",
       "3  London, England               NaN          Adam Ant           0.0   \n",
       "4                                NaN               Gob           0.0   \n",
       "\n",
       "    duration  energy  key  loudness  \\\n",
       "0  218.93179     0.0    1   -11.197   \n",
       "1  148.03546     0.0    6    -9.843   \n",
       "2  177.47546     0.0    8    -9.689   \n",
       "3  233.40363     0.0    0    -9.013   \n",
       "4  209.60608     0.0    2    -4.501   \n",
       "\n",
       "                                        loudness_max  \\\n",
       "0  [-60.0, -31.646, -34.565, -38.407, -34.696, -2...   \n",
       "1  [-60.0, -14.269, -10.165, -18.098, -19.136, -1...   \n",
       "2  [-59.895, -11.914, -10.344, -9.678, -9.22, -8....   \n",
       "3  [-18.682, -9.55, -9.709, -8.633, -7.434, -11.7...   \n",
       "4  [-59.813, -7.713, -16.13, -2.512, -8.088, -8.7...   \n",
       "\n",
       "                                      loudness_start  song_hotttnesss  \\\n",
       "0  [-60.0, -60.0, -40.84, -40.401, -38.456, -39.6...         0.602120   \n",
       "1  [-60.0, -60.0, -23.521, -25.16, -27.133, -24.2...              NaN   \n",
       "2  [-60.0, -59.9, -12.744, -12.003, -12.991, -15....              NaN   \n",
       "3  [-60.0, -27.665, -21.241, -15.222, -18.915, -1...              NaN   \n",
       "4  [-60.0, -59.828, -19.551, -32.609, -21.899, -2...         0.604501   \n",
       "\n",
       "     tempo  time_signature             title            track_id  year  \n",
       "0   92.198               4  I Didn't Mean To  TRAAAAW128F429D538     0  \n",
       "1  121.274               4         Soul Deep  TRAAABD128F429CF47  1969  \n",
       "2  100.070               1   Amor De Cabaret  TRAAADZ128F9348C2E     0  \n",
       "3  119.293               4   Something Girls  TRAAAEF128F4273421  1982  \n",
       "4  129.738               4    Face the Ashes  TRAAAFD128F92F423A  2007  "
      ]
     },
     "execution_count": 9,
     "metadata": {},
     "output_type": "execute_result"
    }
   ],
   "source": [
    "song_df.head()"
   ]
  },
  {
   "cell_type": "code",
   "execution_count": 10,
   "metadata": {
    "collapsed": false
   },
   "outputs": [],
   "source": [
    "song_df.to_csv('.../.../MSD-Data/datasets/song_data.csv', index=False)"
   ]
  }
 ],
 "metadata": {
  "kernelspec": {
   "display_name": "Python 2",
   "language": "python",
   "name": "python2"
  },
  "language_info": {
   "codemirror_mode": {
    "name": "ipython",
    "version": 2
   },
   "file_extension": ".py",
   "mimetype": "text/x-python",
   "name": "python",
   "nbconvert_exporter": "python",
   "pygments_lexer": "ipython2",
   "version": "2.7.12"
  }
 },
 "nbformat": 4,
 "nbformat_minor": 1
}
